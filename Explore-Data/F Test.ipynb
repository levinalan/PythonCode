{
 "cells": [
  {
   "cell_type": "code",
   "execution_count": 7,
   "metadata": {},
   "outputs": [
    {
     "name": "stdout",
     "output_type": "stream",
     "text": [
      "F-statistic: 35924.0\n",
      "p-value: 0.999999997675553\n"
     ]
    }
   ],
   "source": [
    "from scipy.stats import f\n",
    "import numpy as np\n",
    "\n",
    "def f_test(sample1, sample2):\n",
    "    \"\"\"\n",
    "    Perform F-test for two samples.\n",
    "\n",
    "    Parameters:\n",
    "    sample1 (array-like): First sample data.\n",
    "    sample2 (array-like): Second sample data.\n",
    "\n",
    "    Returns:\n",
    "    f_statistic (float): The F-statistic.\n",
    "    p_value (float): The p-value.\n",
    "    \"\"\"\n",
    "\n",
    "    # Calculate the variance of each sample\n",
    "    var1 = np.var(sample1, ddof=1)\n",
    "    var2 = np.var(sample2, ddof=1)\n",
    "\n",
    "    # Ensure the larger variance is in the numerator\n",
    "    if var1 < var2:\n",
    "        var1, var2 = var2, var1\n",
    "        sample1, sample2 = sample2, sample1\n",
    "\n",
    "    # Calculate the F-statistic\n",
    "    f_statistic = var1 / var2\n",
    "\n",
    "    # Calculate degrees of freedom\n",
    "    df1 = len(sample1) - 1\n",
    "    df2 = len(sample2) - 1\n",
    "\n",
    "    # Calculate p-value\n",
    "    p_value = f.cdf(f_statistic, df1, df2)\n",
    "\n",
    "    return f_statistic, p_value\n",
    "\n",
    "# Example usage:\n",
    "sample1 = [1, 2, 3, 4, 5]\n",
    "# sample2 = [2, 4, 6, 8, 10]\n",
    "sample2 = [102, 104, 306, 508, 810]\n",
    "#sample2 = [1, 2, 3, 4, 5]\n",
    "f_stat, p_val = f_test(sample1, sample2)\n",
    "print(\"F-statistic:\", f_stat)\n",
    "print(\"p-value:\", p_val)\n"
   ]
  }
 ],
 "metadata": {
  "kernelspec": {
   "display_name": "Python 3",
   "language": "python",
   "name": "python3"
  },
  "language_info": {
   "codemirror_mode": {
    "name": "ipython",
    "version": 3
   },
   "file_extension": ".py",
   "mimetype": "text/x-python",
   "name": "python",
   "nbconvert_exporter": "python",
   "pygments_lexer": "ipython3",
   "version": "3.9.0"
  }
 },
 "nbformat": 4,
 "nbformat_minor": 2
}
