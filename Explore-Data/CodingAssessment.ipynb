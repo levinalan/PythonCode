{
 "cells": [
  {
   "cell_type": "code",
   "execution_count": 26,
   "metadata": {},
   "outputs": [
    {
     "name": "stdout",
     "output_type": "stream",
     "text": [
      "True\n"
     ]
    }
   ],
   "source": [
    "def reverse_word(word):\n",
    "    reversed = \"\"\n",
    "    for letter in word:\n",
    "        reversed = letter + reversed\n",
    "    return reversed\n",
    "\n",
    "def is_palindrome(word):\n",
    "    return reverse_word(word)\n",
    "\n",
    "def check_all_palindromes(arr):\n",
    "    for word in arr:\n",
    "        if is_palindrome(word) == False:\n",
    "            return False\n",
    "    return True\n",
    "\n",
    "print(check_all_palindromes(['racecar', 'nood', 'civic']))"
   ]
  },
  {
   "cell_type": "code",
   "execution_count": 27,
   "metadata": {},
   "outputs": [
    {
     "name": "stdout",
     "output_type": "stream",
     "text": [
      "False\n"
     ]
    }
   ],
   "source": [
    "def reverse_word(word):\n",
    "    reversed = \"\"\n",
    "    for letter in word:\n",
    "        reversed = letter + reversed\n",
    "    return reversed\n",
    "\n",
    "def check_all_palindromes(arr):\n",
    "    if arr[0] == reverse_word(arr[0]):\n",
    "        if arr[1] == reverse_word(arr[1]):\n",
    "            if arr[2] == reverse_word(arr[2]):\n",
    "                    return True\n",
    "    return False\n",
    "\n",
    "print(check_all_palindromes(['racecar', 'nood', 'civic']))"
   ]
  },
  {
   "cell_type": "code",
   "execution_count": 1,
   "metadata": {},
   "outputs": [
    {
     "name": "stdout",
     "output_type": "stream",
     "text": [
      "13\n"
     ]
    }
   ],
   "source": [
    "import math\n",
    "print(math.isqrt(169))"
   ]
  },
  {
   "cell_type": "code",
   "execution_count": 7,
   "metadata": {},
   "outputs": [
    {
     "name": "stdout",
     "output_type": "stream",
     "text": [
      "True\n"
     ]
    }
   ],
   "source": [
    "import math as mth\n",
    "def isPrime(n):\n",
    "    for i in range(2, mth.isqrt(n) + 1):\n",
    "        if n % i == 0:\n",
    "            return False\n",
    "\n",
    "    return True\n",
    "\n",
    "print(isPrime(2))"
   ]
  },
  {
   "cell_type": "code",
   "execution_count": 33,
   "metadata": {},
   "outputs": [
    {
     "name": "stdout",
     "output_type": "stream",
     "text": [
      "[[6]]\n"
     ]
    }
   ],
   "source": [
    "def create_staircase(nums):\n",
    "  while len(nums) != 0:\n",
    "    step = 1\n",
    "    subsets = []\n",
    "    if len(nums) >= step:\n",
    "      subsets.append(nums[0:step])\n",
    "      nums = nums[step:]\n",
    "      step += 1\n",
    "    else:\n",
    "      return False\n",
    "  return subsets\n",
    "\n",
    "print(create_staircase([1, 2, 3, 4, 5, 6]))"
   ]
  },
  {
   "cell_type": "code",
   "execution_count": 34,
   "metadata": {},
   "outputs": [
    {
     "name": "stdout",
     "output_type": "stream",
     "text": [
      "[[1], [2, 3], [4, 5, 6]]\n"
     ]
    }
   ],
   "source": [
    "def create_staircase(nums):\n",
    "  step = 1\n",
    "  subsets = []\n",
    "  while len(nums) != 0:\n",
    "    if len(nums) >= step:\n",
    "      subsets.append(nums[0:step])\n",
    "      nums = nums[step:]\n",
    "      step += 1\n",
    "    else:\n",
    "      return False\n",
    "      \n",
    "  return subsets\n",
    "\n",
    "print(create_staircase([1, 2, 3, 4, 5, 6]))"
   ]
  },
  {
   "cell_type": "code",
   "execution_count": 69,
   "metadata": {},
   "outputs": [
    {
     "data": {
      "text/plain": [
       "'down dont nine lot work silver east duck done tone bit stop sun deal huge moment poem hold make like possible clock of bought'"
      ]
     },
     "execution_count": 69,
     "metadata": {},
     "output_type": "execute_result"
    }
   ],
   "source": [
    "def create_staircase(nums):\n",
    "  step = 1\n",
    "  subsets = []\n",
    "  while len(nums) != 0:\n",
    "    if len(nums) >= step:\n",
    "      subsets.append(nums[0:step])\n",
    "      nums = nums[step:]\n",
    "      step += 1\n",
    "    else:\n",
    "      return False\n",
    "      \n",
    "  return subsets\n",
    "\n",
    "def decode(InputFile):\n",
    "  # Using readlines()\n",
    "    file1 = open(InputFile, 'r')\n",
    "    Lines = file1.readlines()\n",
    "    \n",
    "    count = 0\n",
    "    \n",
    "    Input_Array = []\n",
    "    # Get count of lines\n",
    "    for line in Lines:\n",
    "        count += 1\n",
    "        # print(\"Line{}: {}\".format(count, line.strip()))\n",
    "        Input_Array.append(line.strip())\n",
    "\n",
    "    num_list = list(range(1, count+1))\n",
    "    # print(num_list)\n",
    "    # print(create_staircase(num_list))\n",
    "    encoded_msg = \"\"\n",
    "    for s in create_staircase(num_list):\n",
    "        # print(s[len(s) -1])\n",
    "        for i in Input_Array:\n",
    "           # print(i)\n",
    "           arr = i.split(' ')\n",
    "           # print (arr[0])\n",
    "           if str(s[len(s) -1]) == arr[0]:\n",
    "                encoded_msg += arr[1] + \" \"\n",
    "\n",
    "    return encoded_msg.strip()\n",
    "\n",
    "decode(\"Encoded_msg.txt\")"
   ]
  },
  {
   "cell_type": "code",
   "execution_count": 71,
   "metadata": {},
   "outputs": [
    {
     "name": "stdout",
     "output_type": "stream",
     "text": [
      "5\n"
     ]
    }
   ],
   "source": [
    "import math\n",
    "print(math.isqrt(25))"
   ]
  },
  {
   "cell_type": "code",
   "execution_count": 8,
   "metadata": {},
   "outputs": [
    {
     "name": "stdout",
     "output_type": "stream",
     "text": [
      "5 25\n",
      "6 36\n",
      "7 49\n",
      "end of loop\n"
     ]
    }
   ],
   "source": [
    "for i in range(5, 8):\n",
    "    print(i, i ** 2)\n",
    "print('end of loop')"
   ]
  }
 ],
 "metadata": {
  "kernelspec": {
   "display_name": "Python 3",
   "language": "python",
   "name": "python3"
  },
  "language_info": {
   "codemirror_mode": {
    "name": "ipython",
    "version": 3
   },
   "file_extension": ".py",
   "mimetype": "text/x-python",
   "name": "python",
   "nbconvert_exporter": "python",
   "pygments_lexer": "ipython3",
   "version": "3.9.0"
  }
 },
 "nbformat": 4,
 "nbformat_minor": 2
}
