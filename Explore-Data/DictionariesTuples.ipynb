{
 "cells": [
  {
   "cell_type": "code",
   "execution_count": 26,
   "metadata": {},
   "outputs": [
    {
     "name": "stdout",
     "output_type": "stream",
     "text": [
      "Washington, DC\n",
      "That capital exists\n",
      "dict_keys(['USA', 'India', 'Russia'])\n",
      "USA\n",
      "India\n",
      "Russia\n",
      "dict_values(['Detroit', 'New Dehli', 'Moscow'])\n",
      "Detroit\n",
      "New Dehli\n",
      "Moscow\n",
      "dict_items([('USA', 'Detroit'), ('India', 'New Dehli'), ('Russia', 'Moscow')])\n",
      "USA: Detroit\n",
      "India: New Dehli\n",
      "Russia: Moscow\n"
     ]
    }
   ],
   "source": [
    "# dictionaries\n",
    "capitals = {\"USA\": \"Washington, DC\", \"India\": \"New Dehli\", \"China\": \"Bejing\", \"Russia\": \"Moscow\"}\n",
    "\n",
    "# print(dir(capitals))\n",
    "# print(help(capitals))\n",
    "print(capitals.get(\"USA\"))\n",
    "\n",
    "if capitals.get(\"Russia\"):\n",
    "    print(\"That capital exists\")\n",
    "else:\n",
    "    print(\"That capital does not exist\")\n",
    "\n",
    "capitals.update({\"Germany\": \"Berlin\"})\n",
    "# print(capitals)\n",
    "capitals.update({\"USA\": \"Detroit\"})\n",
    "capitals.pop(\"China\")\n",
    "\n",
    "capitals.popitem()\n",
    "# capitals.clear()\n",
    "# print(capitals)\n",
    "\n",
    "keys = capitals.keys()\n",
    "print(keys)\n",
    "\n",
    "for key in capitals.keys():\n",
    "    print(key)\n",
    "\n",
    "values = capitals.values()\n",
    "print(values)\n",
    "\n",
    "for value in capitals.values():\n",
    "    print(value)\n",
    "\n",
    "items = capitals.items()\n",
    "print(items)\n",
    "\n",
    "for key, value in capitals.items():\n",
    "    print(f\"{key}: {value}\")\n",
    "\n",
    "\n",
    "\n"
   ]
  },
  {
   "cell_type": "code",
   "execution_count": 29,
   "metadata": {},
   "outputs": [
    {
     "name": "stdout",
     "output_type": "stream",
     "text": [
      "1\n",
      "2\n",
      "Bro\n",
      "33\n",
      "male\n",
      "Bro is here.\n"
     ]
    }
   ],
   "source": [
    "#tuples\n",
    "\n",
    "student = (\"Bro\", 33, \"male\")\n",
    "print(student.count(\"Bro\"))\n",
    "print(student.index(\"male\"))\n",
    "\n",
    "for x in student:\n",
    "    print(x)\n",
    "\n",
    "if \"Bro\" in student:\n",
    "    print(\"Bro is here.\")\n",
    "\n"
   ]
  }
 ],
 "metadata": {
  "kernelspec": {
   "display_name": "Python 3",
   "language": "python",
   "name": "python3"
  },
  "language_info": {
   "codemirror_mode": {
    "name": "ipython",
    "version": 3
   },
   "file_extension": ".py",
   "mimetype": "text/x-python",
   "name": "python",
   "nbconvert_exporter": "python",
   "pygments_lexer": "ipython3",
   "version": "3.9.0"
  }
 },
 "nbformat": 4,
 "nbformat_minor": 2
}
