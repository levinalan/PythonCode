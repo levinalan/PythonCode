{
 "cells": [
  {
   "cell_type": "code",
   "execution_count": null,
   "metadata": {},
   "outputs": [],
   "source": [
    "import pandas as pd\n",
    "\n",
    "df_dataset1 = pd.read_csv('C:/Users/levin/OneDrive/PTA/Daven/activity+recognition+system+based+on+multisensor+data+fusion+arem/bending1/dataset1.1.csv',delimiter = ',', header = 'infer')\n",
    "df_dataset1\n",
    "df_dataset1.mean()"
   ]
  }
 ],
 "metadata": {
  "language_info": {
   "name": "python"
  }
 },
 "nbformat": 4,
 "nbformat_minor": 2
}
