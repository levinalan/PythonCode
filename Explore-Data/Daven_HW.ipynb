{
 "cells": [
  {
   "cell_type": "code",
   "execution_count": 2,
   "metadata": {},
   "outputs": [
    {
     "data": {
      "text/plain": [
       "time         59875.000000\n",
       "avg_rss12       40.624792\n",
       "var_rss12        0.358604\n",
       "avg_rss13       19.040937\n",
       "var_rss13        0.832542\n",
       "avg_rss23       34.311292\n",
       "var_rss23        0.570583\n",
       "dtype: float64"
      ]
     },
     "execution_count": 2,
     "metadata": {},
     "output_type": "execute_result"
    }
   ],
   "source": [
    "import pandas as pd\n",
    "\n",
    "df_dataset1 = pd.read_csv('dataset1.1.csv',delimiter = ',', header = 'infer')\n",
    "df_dataset1\n",
    "# df_dataset1.mean()"
   ]
  }
 ],
 "metadata": {
  "kernelspec": {
   "display_name": "Python 3",
   "language": "python",
   "name": "python3"
  },
  "language_info": {
   "codemirror_mode": {
    "name": "ipython",
    "version": 3
   },
   "file_extension": ".py",
   "mimetype": "text/x-python",
   "name": "python",
   "nbconvert_exporter": "python",
   "pygments_lexer": "ipython3",
   "version": "3.9.0"
  }
 },
 "nbformat": 4,
 "nbformat_minor": 2
}
